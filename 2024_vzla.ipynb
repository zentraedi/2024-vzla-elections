{
 "cells": [
  {
   "cell_type": "code",
   "execution_count": 1,
   "id": "b653b53f-4f98-4226-aa31-f4b4d44166ce",
   "metadata": {},
   "outputs": [],
   "source": [
    "import geopandas as gpd\n",
    "import pandas as pd\n",
    "\n",
    "import folium\n",
    "from unidecode import unidecode"
   ]
  },
  {
   "cell_type": "code",
   "execution_count": 2,
   "id": "a4ae3458-e0f6-4d52-bb0b-d2815f63836a",
   "metadata": {},
   "outputs": [],
   "source": [
    "df = pd.read_csv('2024_vzla_presidential.csv')"
   ]
  },
  {
   "cell_type": "code",
   "execution_count": 3,
   "id": "37454fd3-0097-4d65-b003-a91af045d1b6",
   "metadata": {},
   "outputs": [],
   "source": [
    "# remove since they're already aggregated in 'Otros'\n",
    "df = df.drop(['Martinez', 'Bertucci', 'Brito', 'Ecarri',\n",
    "       'Fermin', 'Ceballos', 'Marquez', 'Rausseo', 'votantes'], axis=1)"
   ]
  },
  {
   "cell_type": "code",
   "execution_count": 4,
   "id": "78e7a509-3144-432e-a472-07654309dc4a",
   "metadata": {},
   "outputs": [],
   "source": [
    "df = df.rename(columns={\"ESTADO\": \"Estado\", \"municipio\": \"Municipio\", \"parroquia\": \"Parroquia\"})"
   ]
  },
  {
   "cell_type": "code",
   "execution_count": 5,
   "id": "8b59b5d1-da65-481c-98d3-24ca31037c40",
   "metadata": {},
   "outputs": [],
   "source": [
    "# remove special characters like ~, ´, ¨, and whatnot...\n",
    "df['Estado'] = df['Estado'].apply(unidecode).str.upper()\n",
    "df['Municipio'] = df['Municipio'].apply(unidecode).str.upper()\n",
    "df['Parroquia'] = df['Parroquia'].apply(unidecode).str.upper()"
   ]
  },
  {
   "cell_type": "code",
   "execution_count": 6,
   "id": "9362bf71-73a0-4f29-a22a-e5db1993c59b",
   "metadata": {},
   "outputs": [],
   "source": [
    "# change some municipality names so it matches the map data\n",
    "df.loc[df['Estado'] == 'CAPITAL', 'Estado'] = 'DISTRITO CAPITAL'\n",
    "df.loc[(df['Estado'] == 'BOLIVAR') & (df['Municipio'] == 'ANGOSTURA'), 'Municipio'] = 'BOLIVARIANO ANGOSTURA'\n",
    "df.loc[(df['Estado'] == 'ANZOATEGUI') & (df['Municipio'] == 'FREITES'), 'Municipio'] = 'PEDRO MARIA FREITES'\n",
    "df.loc[(df['Estado'] == 'ANZOATEGUI') & (df['Municipio'] == 'GUANIPA'), 'Municipio'] = 'SAN JOSE DE GUANIPA'\n",
    "df.loc[(df['Estado'] == 'ANZOATEGUI') & (df['Municipio'] == 'SOTILLO'), 'Municipio'] = 'JUAN ANTONIO SOTILLO'\n",
    "df.loc[(df['Estado'] == 'ANZOATEGUI') & (df['Municipio'] == 'MONAGAS'), 'Municipio'] = 'JOSE GREGORIO MONAGAS'\n",
    "df.loc[(df['Estado'] == 'ANZOATEGUI') & (df['Municipio'] == 'PENALVER'), 'Municipio'] = 'FERNANDO DE PENALVER'\n",
    "df.loc[(df['Estado'] == 'ANZOATEGUI') & (df['Municipio'] == 'BRUZUAL'), 'Municipio'] = 'MANUEL EZEQUIEL BRUZUAL'\n",
    "df.loc[(df['Estado'] == 'ANZOATEGUI') & (df['Municipio'] == 'CAJIGAL'), 'Municipio'] = 'JUAN MANUEL CAJIGAL'\n",
    "df.loc[(df['Estado'] == 'ANZOATEGUI') & (df['Municipio'] == 'CARVAJAL'), 'Municipio'] = 'FRANCISCO DEL CARMEN CARVAJAL'\n",
    "df.loc[(df['Estado'] == 'ANZOATEGUI') & (df['Municipio'] == 'MC GREGOR'), 'Municipio'] = 'SIR ARTHUR MC GREGOR'\n",
    "df.loc[(df['Estado'] == 'NUEVA ESPARTA') & (df['Municipio'] == 'PENINSULA DE MACANAO'), 'Municipio'] = 'MACANAO'\n",
    "df.loc[(df['Estado'] == 'GUARICO') & (df['Municipio'] == 'ZARAZA'), 'Municipio'] = 'PEDRO ZARAZA'\n",
    "df.loc[(df['Estado'] == 'GUARICO') & (df['Municipio'] == 'MONAGAS'), 'Municipio'] = 'JOSE TADEO MONAGAS'\n",
    "df.loc[(df['Estado'] == 'GUARICO') & (df['Municipio'] == 'INFANTE'), 'Municipio'] = 'LEONARDO INFANTE'\n",
    "df.loc[(df['Estado'] == 'GUARICO') & (df['Municipio'] == 'MELLADO'), 'Municipio'] = 'JULIAN MELLADO'\n",
    "df.loc[(df['Estado'] == 'GUARICO') & (df['Municipio'] == 'ROSCIO'), 'Municipio'] = 'JUAN GERMAN ROSCIO'\n",
    "df.loc[(df['Estado'] == 'MIRANDA') & (df['Municipio'] == 'GUAICAIPURO'), 'Municipio'] = 'BOLIVARIANO GUAICAIPURO'\n",
    "df.loc[(df['Estado'] == 'ZULIA') & (df['Municipio'] == 'GUAJIRA'), 'Municipio'] = 'INDIGENA BOLIVARIANO GUAJIRA'"
   ]
  },
  {
   "cell_type": "code",
   "execution_count": null,
   "id": "1049ea7a-cbcb-4d33-a3ee-4b9fa0029979",
   "metadata": {},
   "outputs": [],
   "source": [
    "df.loc[df['Estado'] == 'ANZOATEGUI', 'Municipio'].unique()"
   ]
  },
  {
   "cell_type": "code",
   "execution_count": 7,
   "id": "c16203be-fa77-44f9-a36e-480b6813d1a7",
   "metadata": {},
   "outputs": [],
   "source": [
    "# aggregate results by state\n",
    "df_by_state = df.groupby(['Estado'], as_index=False)[['Maduro', 'Gonzalez', 'Otros']].sum()\n",
    "df_by_state['Total'] = df_by_state[['Gonzalez', 'Maduro', 'Otros']].sum(axis=1)\n",
    "\n",
    "# aggregate results by state and municipality\n",
    "df_by_municipio = df.groupby(['Estado', 'Municipio'], as_index=False)[['Maduro', 'Gonzalez', 'Otros']].sum()\n",
    "df_by_municipio['Total'] = df_by_municipio[['Gonzalez', 'Maduro', 'Otros']].sum(axis=1)"
   ]
  },
  {
   "cell_type": "code",
   "execution_count": 8,
   "id": "ca083177-ead5-480c-9c65-fec085d6d545",
   "metadata": {},
   "outputs": [],
   "source": [
    "# creating a state indexed version of the dataframes so we can lookup values\n",
    "state_data_indexed = df_by_state.set_index('Estado')\n",
    "\n",
    "# create a multi index for state - municipality\n",
    "state_mun_tuples = list(zip(df_by_municipio.Estado, df_by_municipio.Municipio))\n",
    "index = pd.MultiIndex.from_tuples(state_mun_tuples, names=['Estado', 'Municipio'])\n",
    "mun_data_indexed = df_by_municipio.set_index(index)"
   ]
  },
  {
   "cell_type": "code",
   "execution_count": 9,
   "id": "66be77c9-0192-464b-8e41-8487bb8ea442",
   "metadata": {},
   "outputs": [],
   "source": [
    "# load geo data from shape file (level 1 state level)\n",
    "ve_map = gpd.read_file('ven_adm_ine_20210223_shp/ven_admbnda_adm1_ine_20210223.shp')\n",
    "ve_map = ve_map.rename(columns={\"ADM1_ES\": \"Estado\"})\n",
    "ve_map['Estado'] = ve_map['Estado'].apply(unidecode).str.upper()\n",
    "\n",
    "# load geo data from shape file (level 2 state and municipality level)\n",
    "ve_map_mun = gpd.read_file('ven_adm_ine_20210223_shp/ven_admbnda_adm2_ine_20210223.shp')\n",
    "ve_map_mun = ve_map_mun.rename(columns={\"ADM2_ES\": \"Municipio\", \"ADM1_ES\": \"Estado\"})\n",
    "ve_map_mun['Estado'] = ve_map_mun['Estado'].apply(unidecode).str.upper()\n",
    "ve_map_mun['Municipio'] = ve_map_mun['Municipio'].apply(unidecode).str.upper()"
   ]
  },
  {
   "cell_type": "code",
   "execution_count": 10,
   "id": "a3b84374-6243-4d27-851b-fa82c3703c14",
   "metadata": {},
   "outputs": [],
   "source": [
    "# fix some municipality names\n",
    "ve_map_mun.loc[(ve_map_mun['Estado'] == 'MONAGAS') & (ve_map_mun['Municipio'] == 'SANTA BABARA'), 'Municipio'] = 'SANTA BARBARA'\n",
    "ve_map_mun.loc[(ve_map_mun['Estado'] == 'AMAZONAS') & (ve_map_mun['Municipio'] == 'AUTONOMO ATURES'), 'Municipio'] = 'ATURES'\n",
    "ve_map_mun.loc[(ve_map_mun['Estado'] == 'ARAGUA') & (ve_map_mun['Municipio'] == 'MARIO BRICENO IRAGORRI'), 'Municipio'] = 'MARIO BRICENO IRAGORRY'\n",
    "ve_map_mun.loc[(ve_map_mun['Estado'] == 'PORTUGUESA') & (ve_map_mun['Municipio'] == 'MONSENOR JOSE VICENTE DE UND'), 'Municipio'] = 'MONSENOR JOSE VICENTE DE UNDA'\n",
    "ve_map_mun.loc[(ve_map_mun['Estado'] == 'TRUJILLO') & (ve_map_mun['Municipio'] == 'JOSE FELIPE MARQUEZ CANIZAL'), 'Municipio'] = 'JOSE FELIPE MARQUEZ CANIZALES'\n",
    "ve_map_mun.loc[(ve_map_mun['Estado'] == 'MERIDA') & (ve_map_mun['Municipio'] == 'JULIO CESAR SALA'), 'Municipio'] = 'JULIO CESAR SALAS'"
   ]
  },
  {
   "cell_type": "code",
   "execution_count": null,
   "id": "a183f303-27ac-4c07-9b88-65c5d7bb5f91",
   "metadata": {},
   "outputs": [],
   "source": [
    "ve_map_mun.loc[ve_map_mun['Estado'] == 'MERIDA', 'Municipio'].unique()"
   ]
  },
  {
   "cell_type": "code",
   "execution_count": 11,
   "id": "5d3b8be2-3dfb-4fdd-83ce-8f0b8da15ee9",
   "metadata": {},
   "outputs": [],
   "source": [
    "# remove date columns\n",
    "ve_map = ve_map.drop(['date', 'validOn', 'validTo'], axis=1)\n",
    "ve_map_mun = ve_map_mun.drop(['date', 'validOn', 'validTo'], axis=1)"
   ]
  },
  {
   "cell_type": "code",
   "execution_count": null,
   "id": "56617b47-a91f-4839-b4a3-04a67360036e",
   "metadata": {},
   "outputs": [],
   "source": [
    "# create the map\n",
    "m = folium.Map(location=[7, -66], zoom_start=6, tiles='cartodbpositron')"
   ]
  },
  {
   "cell_type": "code",
   "execution_count": null,
   "id": "a8be959c-907b-4abc-a9cb-d078f2f04d1c",
   "metadata": {},
   "outputs": [],
   "source": [
    "# by state\n",
    "\n",
    "cp = folium.Choropleth(\n",
    "    geo_data=ve_map,\n",
    "    name='Votación por estado',\n",
    "    data=df_by_state,\n",
    "    columns=['Estado', 'Total'],\n",
    "    key_on=\"feature.properties.Estado\",\n",
    "    fill_opacity=0.8,\n",
    "    line_opacity=0.9,\n",
    "    legend_name=\"Votos por estado, 2024\",\n",
    "    highlight=True,\n",
    "    control=False\n",
    ").add_to(m)\n",
    "\n",
    "for s in cp.geojson.data['features']:\n",
    "    try:\n",
    "        s['properties']['egu'] = f\"{state_data_indexed.loc[s['properties']['Estado'], 'Gonzalez'].item():,}\"\n",
    "        s['properties']['nm'] = f\"{state_data_indexed.loc[s['properties']['Estado'], 'Maduro'].item():,}\"\n",
    "        s['properties']['otros'] = f\"{state_data_indexed.loc[s['properties']['Estado'], 'Otros'].item():,}\"\n",
    "        s['properties']['total'] = f\"{state_data_indexed.loc[s['properties']['Estado'], 'Total'].item():,}\"\n",
    "        \n",
    "    except KeyError:\n",
    "        pass\n",
    "\n",
    "# and finally adding a tooltip/hover to the choropleth's geojson\n",
    "folium.GeoJsonTooltip(\n",
    "    fields=['Estado', 'egu', 'nm', 'otros', 'total'],\n",
    "    aliases=['Estado', 'Edmundo González', 'Nicolás Maduro', 'Otros', 'Total']).add_to(cp.geojson)\n",
    "\n",
    "folium.LayerControl().add_to(m)"
   ]
  },
  {
   "cell_type": "code",
   "execution_count": null,
   "id": "f8299614-28cc-4ad8-a408-c5b38c9b86b6",
   "metadata": {},
   "outputs": [],
   "source": [
    "m.save('dist/2024_vzla_by_state.html')"
   ]
  },
  {
   "cell_type": "code",
   "execution_count": 15,
   "id": "5e7a3303-15ad-4c78-be21-4d85e142c52d",
   "metadata": {},
   "outputs": [],
   "source": [
    "m = folium.Map(location=[7, -66], zoom_start=6, tiles='cartodbpositron')"
   ]
  },
  {
   "cell_type": "code",
   "execution_count": 18,
   "id": "92ea5db2-2c82-4f2e-9e5c-28798c370643",
   "metadata": {},
   "outputs": [
    {
     "data": {
      "text/plain": [
       "<folium.map.LayerControl at 0x1333b65c0>"
      ]
     },
     "execution_count": 18,
     "metadata": {},
     "output_type": "execute_result"
    }
   ],
   "source": [
    "# by municipality\n",
    "\n",
    "cp = folium.Choropleth(\n",
    "    geo_data=ve_map_mun,\n",
    "    name='Votación por municipio',\n",
    "    data=df_by_municipio,\n",
    "    columns=['Municipio', 'Total'],\n",
    "    key_on=\"feature.properties.Municipio\",\n",
    "    fill_opacity=0.8,\n",
    "    line_opacity=0.9,\n",
    "    legend_name=\"Votos por municipio, 2024\",\n",
    "    highlight=True,\n",
    "    control=False\n",
    ").add_to(m)\n",
    "\n",
    "for s in cp.geojson.data['features']:\n",
    "    try:\n",
    "        s['properties']['egu'] = f\"{mun_data_indexed.loc[[(s['properties']['Estado'],s['properties']['Municipio'])], 'Gonzalez'].item():,}\"\n",
    "        s['properties']['nm'] = f\"{mun_data_indexed.loc[[(s['properties']['Estado'],s['properties']['Municipio'])], 'Maduro'].item():,}\"\n",
    "        s['properties']['otros'] = f\"{mun_data_indexed.loc[[(s['properties']['Estado'],s['properties']['Municipio'])], 'Otros'].item():,}\"\n",
    "        s['properties']['total'] = f\"{mun_data_indexed.loc[[(s['properties']['Estado'],s['properties']['Municipio'])], 'Total'].item():,}\"\n",
    "    except KeyError:\n",
    "        pass\n",
    "\n",
    "# and finally adding a tooltip/hover to the choropleth's geojson\n",
    "folium.GeoJsonTooltip(\n",
    "    fields=['Estado', 'Municipio', 'egu', 'nm', 'otros', 'total'],\n",
    "    aliases=['Estado', 'Municipio', 'Edmundo González', 'Nicolás Maduro', 'Otros', 'Total']).add_to(cp.geojson)\n",
    "\n",
    "folium.LayerControl().add_to(m)"
   ]
  },
  {
   "cell_type": "code",
   "execution_count": 19,
   "id": "0d032108-cab6-4c35-99fc-9799f5bb3a19",
   "metadata": {},
   "outputs": [],
   "source": [
    "m.save('dist/2024_vzla_by_municipality.html')"
   ]
  },
  {
   "cell_type": "code",
   "execution_count": null,
   "id": "28ea55eb-8e6b-444a-b683-2017921bdf3e",
   "metadata": {},
   "outputs": [],
   "source": []
  }
 ],
 "metadata": {
  "kernelspec": {
   "display_name": "Python 3 (ipykernel)",
   "language": "python",
   "name": "python3"
  },
  "language_info": {
   "codemirror_mode": {
    "name": "ipython",
    "version": 3
   },
   "file_extension": ".py",
   "mimetype": "text/x-python",
   "name": "python",
   "nbconvert_exporter": "python",
   "pygments_lexer": "ipython3",
   "version": "3.10.13"
  }
 },
 "nbformat": 4,
 "nbformat_minor": 5
}
